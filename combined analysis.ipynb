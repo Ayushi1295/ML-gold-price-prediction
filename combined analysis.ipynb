{
 "cells": [
  {
   "cell_type": "code",
   "execution_count": 1,
   "id": "e044cb58-1ec1-4e54-b428-4afcf5322176",
   "metadata": {},
   "outputs": [],
   "source": [
    "import numpy as np\n",
    "import pandas as pd\n",
    "import matplotlib.pyplot as plt\n",
    "import seaborn as sns\n",
    "from sklearn.preprocessing import StandardScaler\n",
    "from tensorflow.keras.models import Sequential\n",
    "from tensorflow.keras.layers import LSTM,Dense,Dropout\n",
    "from tensorflow.keras.callbacks import EarlyStopping,ModelCheckpoint\n",
    "from sklearn.metrics import mean_squared_error\n",
    "from sklearn.metrics import r2_score\n",
    "from sklearn.model_selection import train_test_split\n",
    "from sklearn.ensemble import RandomForestRegressor\n",
    "from sklearn import metrics\n",
    "from statsmodels.graphics.tsaplots import plot_acf, plot_pacf\n",
    "from statsmodels.tsa.arima.model import ARIMA"
   ]
  },
  {
   "cell_type": "code",
   "execution_count": 2,
   "id": "a4b859dc-cc43-4224-af3f-bb524ae1161f",
   "metadata": {},
   "outputs": [],
   "source": [
    "data=pd.read_csv(r'C:\\Users\\HP\\Downloads\\gld_price_data (2).csv')"
   ]
  },
  {
   "cell_type": "code",
   "execution_count": 3,
   "id": "7c7a6c29-4b15-4327-8849-9e3b3ca365ef",
   "metadata": {},
   "outputs": [
    {
     "name": "stdout",
     "output_type": "stream",
     "text": [
      "              SPX        USO      SLV   EUR/USD\n",
      "0     1447.160034  78.470001  15.1800  1.471692\n",
      "1     1447.160034  78.370003  15.2850  1.474491\n",
      "2     1411.630005  77.309998  15.1670  1.475492\n",
      "3     1416.180054  75.500000  15.0530  1.468299\n",
      "4     1390.189941  76.059998  15.5900  1.557099\n",
      "...           ...        ...      ...       ...\n",
      "2285  2671.919922  14.060000  15.5100  1.186789\n",
      "2286  2697.790039  14.370000  15.5300  1.184722\n",
      "2287  2723.070068  14.410000  15.7400  1.191753\n",
      "2288  2730.129883  14.380000  15.5600  1.193118\n",
      "2289  2725.780029  14.405800  15.4542  1.182033\n",
      "\n",
      "[2290 rows x 4 columns]\n",
      "0        84.860001\n",
      "1        85.570000\n",
      "2        85.129997\n",
      "3        84.769997\n",
      "4        86.779999\n",
      "           ...    \n",
      "2285    124.589996\n",
      "2286    124.330002\n",
      "2287    125.180000\n",
      "2288    124.489998\n",
      "2289    122.543800\n",
      "Name: GLD, Length: 2290, dtype: float64\n"
     ]
    }
   ],
   "source": [
    "X=data.drop(['Date','GLD'],axis=1)\n",
    "Y=data['GLD']\n",
    "print(X)\n",
    "print(Y)\n",
    "\n",
    "X_train,X_test,Y_train,Y_test= train_test_split(X,Y,test_size=0.2,random_state=2)"
   ]
  },
  {
   "cell_type": "code",
   "execution_count": 27,
   "id": "72e522f2-2929-4c3f-a1a9-775bb9d640ef",
   "metadata": {},
   "outputs": [],
   "source": [
    "import numpy as np\n",
    "import pandas as pd\n",
    "from sklearn.preprocessing import StandardScaler\n",
    "from keras.models import Sequential\n",
    "from keras.layers import LSTM, Dropout, Dense\n",
    "import seaborn as sns\n",
    "from pandas.tseries.holiday import USFederalHolidayCalendar\n",
    "from pandas.tseries.offsets import CustomBusinessDay\n",
    "import matplotlib.pyplot as plt\n",
    "\n",
    "# Ensure no inf values in the data\n",
    "data.replace([np.inf, -np.inf], np.nan, inplace=True)\n",
    "\n",
    "\n",
    "\n",
    "# Assuming X_train, y_train, X_test are defined\n",
    "train_lstm(X_train, Y_train, X_test)\n",
    "\n"
   ]
  },
  {
   "cell_type": "code",
   "execution_count": 20,
   "id": "74002a91-857f-45a2-b438-b910f2ceb7f5",
   "metadata": {},
   "outputs": [
    {
     "name": "stdout",
     "output_type": "stream",
     "text": [
      "XGBoost Predictions: [127.744835 127.38933  127.0048   126.728325 125.67845  125.54693\n",
      " 124.80582  124.46909  124.26511  123.99303  124.43893 ]\n",
      "Length of XGBoost Predictions: 11\n"
     ]
    },
    {
     "data": {
      "text/plain": [
       "array([127.744835, 127.38933 , 127.0048  , 126.728325, 125.67845 ,\n",
       "       125.54693 , 124.80582 , 124.46909 , 124.26511 , 123.99303 ,\n",
       "       124.43893 ], dtype=float32)"
      ]
     },
     "execution_count": 20,
     "metadata": {},
     "output_type": "execute_result"
    }
   ],
   "source": [
    "from pandas import concat\n",
    "def train_xgboost(X_train, y_train, X_test, y_test):\n",
    "    def series_to_supervised(data_input, n_in=1, n_out=1, dropnan=True):\n",
    "        df= data_input[\"GLD\"]\n",
    "    \n",
    "        n_vars = 1 if type(data_input) is list else data.shape[1]\n",
    "        df =data_input[\"GLD\"]\n",
    "        cols = list()\n",
    "        \n",
    "        for i in range(n_in, 0, -1):\n",
    "            cols.append(df.shift(i))\n",
    "    \n",
    "        for i in range(0, n_out):\n",
    "            cols.append(df.shift(-i))\n",
    "     \n",
    "        agg = concat(cols, axis=1)\n",
    "     \n",
    "        if dropnan:\n",
    "            agg.dropna(inplace=True)\n",
    "            return agg.values\n",
    "\n",
    "\n",
    "\n",
    "    train = series_to_supervised(data, n_in=73)\n",
    "    train\n",
    "\n",
    "\n",
    "\n",
    "    from xgboost import XGBRegressor\n",
    "    X_train, Y_train = train[0:2200, :-1], train[0:2200, -1]\n",
    "    X_test, Y_test= train[2200:-6, :-1], train[2200:-6, -1]\n",
    "    model = XGBRegressor(objective='reg:squarederror', n_estimators=10000, max_depth =9)\n",
    "    model.fit(X_train, Y_train)\n",
    "    yhat = model.predict(X_test)\n",
    "\n",
    "    print(\"XGBoost Predictions:\", yhat[:len(X_test)])\n",
    "    print(\"Length of XGBoost Predictions:\", len(yhat))\n",
    "\n",
    "\n",
    "    return yhat\n",
    "\n",
    "    r2=r2_score(Y_test,yhat)\n",
    "    print(r2)\n",
    "    \n",
    "train_xgboost(X_train, Y_train, X_test, Y_test)"
   ]
  },
  {
   "cell_type": "code",
   "execution_count": 21,
   "id": "4eda5c2d-9f3c-47e9-9b46-2351d2d9e1ae",
   "metadata": {},
   "outputs": [],
   "source": [
    "#print(\"XGBoost Predictions:\", yhat[:len(X_test)])\n",
    "#print(\"Length of XGBoost Predictions:\", len(yhat))"
   ]
  },
  {
   "cell_type": "code",
   "execution_count": 22,
   "id": "a9ff7f19-da9b-4a61-a2b1-75323bc636c1",
   "metadata": {},
   "outputs": [
    {
     "name": "stdout",
     "output_type": "stream",
     "text": [
      "0.9888656648676653\n"
     ]
    }
   ],
   "source": [
    "def random_forest(X_train, X_test, y_train, y_test):\n",
    "    regressor = RandomForestRegressor(n_estimators=100)\n",
    "regressor = RandomForestRegressor(n_estimators=100)\n",
    "regressor.fit(X_train,Y_train)\n",
    "test_data_prediction = regressor.predict(X_test)\n",
    "Y_test=list(Y_test)\n",
    "r2=r2_score(Y_test,test_data_prediction)\n",
    "print(r2)"
   ]
  },
  {
   "cell_type": "code",
   "execution_count": 25,
   "id": "aa4a115a-6cd8-48e9-a092-5d3f11f74955",
   "metadata": {},
   "outputs": [
    {
     "name": "stdout",
     "output_type": "stream",
     "text": [
      "XGBoost Predictions: [127.744835 127.38933  127.0048   126.728325 125.67845  125.54693\n",
      " 124.80582  124.46909  124.26511  123.99303  124.43893 ]\n",
      "Length of XGBoost Predictions: 11\n",
      "11\n"
     ]
    },
    {
     "ename": "TypeError",
     "evalue": "object of type 'NoneType' has no len()",
     "output_type": "error",
     "traceback": [
      "\u001b[1;31m---------------------------------------------------------------------------\u001b[0m",
      "\u001b[1;31mTypeError\u001b[0m                                 Traceback (most recent call last)",
      "Cell \u001b[1;32mIn[25], line 9\u001b[0m\n\u001b[0;32m      7\u001b[0m \u001b[38;5;66;03m#print(len(lstm_predictions))\u001b[39;00m\n\u001b[0;32m      8\u001b[0m \u001b[38;5;28mprint\u001b[39m(\u001b[38;5;28mlen\u001b[39m(xgb_predictions))\n\u001b[1;32m----> 9\u001b[0m \u001b[38;5;28mprint\u001b[39m(\u001b[38;5;28mlen\u001b[39m(rf_predictions))\n\u001b[0;32m     12\u001b[0m \u001b[38;5;66;03m# Plotting\u001b[39;00m\n\u001b[0;32m     13\u001b[0m plt\u001b[38;5;241m.\u001b[39mfigure(figsize\u001b[38;5;241m=\u001b[39m(\u001b[38;5;241m15\u001b[39m, \u001b[38;5;241m8\u001b[39m))\n",
      "\u001b[1;31mTypeError\u001b[0m: object of type 'NoneType' has no len()"
     ]
    }
   ],
   "source": [
    "\n",
    "\n",
    "# Predictions\n",
    "#lstm_predictions = train_lstm(X_train, Y_train, X_test)\n",
    "xgb_predictions = train_xgboost(X_train, Y_train, X_test, Y_test)\n",
    "rf_predictions = random_forest(X_train, X_test, Y_train, Y_test)\n",
    "\n",
    "\n",
    "#print(len(lstm_predictions))\n",
    "print(len(xgb_predictions))\n",
    "print(len(rf_predictions))\n",
    "\n",
    "\n",
    "# Plotting\n",
    "plt.figure(figsize=(15, 8))\n",
    "sns.set_style('whitegrid')\n",
    "\n",
    "# Ensure the lengths are consistent\n",
    "plot_length = min(len(lstm_predictions), len(xgb_predictions), len(rf_predictions), len(Y_test))\n",
    "\n",
    "plt.plot(range(plot_length), Y_test[:plot_length], label='Actual GLD Prices', color='black')\n",
    "#plt.plot(range(plot_length), lstm_predictions[:plot_length], label='LSTM Predictions', color='blue')\n",
    "plt.plot(range(plot_length), xgb_predictions[:plot_length], label='XGBoost Predictions', color='red')\n",
    "plt.plot(range(plot_length), rf_predictions[:plot_length], label='Random Forest Predictions', color='green')\n",
    "\n",
    "plt.xlabel('Time')\n",
    "plt.ylabel('GLD Price')\n",
    "plt.title('Comparison of LSTM, XGBoost, and Random Forest Predictions')\n",
    "plt.legend()\n",
    "plt.show()"
   ]
  },
  {
   "cell_type": "code",
   "execution_count": 24,
   "id": "64e3b460-4579-4a31-9faf-e7d8cf73dee2",
   "metadata": {},
   "outputs": [
    {
     "ename": "NameError",
     "evalue": "name 'dates_test' is not defined",
     "output_type": "error",
     "traceback": [
      "\u001b[1;31m---------------------------------------------------------------------------\u001b[0m",
      "\u001b[1;31mNameError\u001b[0m                                 Traceback (most recent call last)",
      "Cell \u001b[1;32mIn[24], line 1\u001b[0m\n\u001b[1;32m----> 1\u001b[0m plt\u001b[38;5;241m.\u001b[39mplot(dates_test, y_test, label\u001b[38;5;241m=\u001b[39m\u001b[38;5;124m'\u001b[39m\u001b[38;5;124mActual\u001b[39m\u001b[38;5;124m'\u001b[39m, color\u001b[38;5;241m=\u001b[39m\u001b[38;5;124m'\u001b[39m\u001b[38;5;124mblack\u001b[39m\u001b[38;5;124m'\u001b[39m)\n\u001b[0;32m      2\u001b[0m plt\u001b[38;5;241m.\u001b[39mplot(dates_test, xgb_pred, label\u001b[38;5;241m=\u001b[39m\u001b[38;5;124mf\u001b[39m\u001b[38;5;124m'\u001b[39m\u001b[38;5;124mXGBoost (Lag \u001b[39m\u001b[38;5;132;01m{\u001b[39;00m\u001b[38;5;28mint\u001b[39m(best_xgboost[\u001b[38;5;124m\"\u001b[39m\u001b[38;5;124mLags\u001b[39m\u001b[38;5;124m\"\u001b[39m])\u001b[38;5;132;01m}\u001b[39;00m\u001b[38;5;124m)\u001b[39m\u001b[38;5;124m'\u001b[39m, linestyle\u001b[38;5;241m=\u001b[39m\u001b[38;5;124m'\u001b[39m\u001b[38;5;124m--\u001b[39m\u001b[38;5;124m'\u001b[39m)\n\u001b[0;32m      3\u001b[0m \u001b[38;5;66;03m#plt.plot(dates_test, lstm_pred, label=f'LSTM (Lag {int(best_lstm[\"Lags\"])})', linestyle='--')\u001b[39;00m\n",
      "\u001b[1;31mNameError\u001b[0m: name 'dates_test' is not defined"
     ]
    }
   ],
   "source": [
    "plt.plot(dates_test, y_test, label='Actual', color='black')\n",
    "plt.plot(dates_test, xgb_pred, label=f'XGBoost (Lag {int(best_xgboost[\"Lags\"])})', linestyle='--')\n",
    "#plt.plot(dates_test, lstm_pred, label=f'LSTM (Lag {int(best_lstm[\"Lags\"])})', linestyle='--')\n",
    "plt.plot(dates_test, gru_pred, label=f'GRU (Lag {int(best_gru[\"Lags\"])})', linestyle='--')\n",
    "plt.plot(dates_test, neuralprophet_pred, label=f'NeuralProphet (Lag {int(best_neuralprophet[\"Lags\"])})', linestyle='--')"
   ]
  },
  {
   "cell_type": "code",
   "execution_count": null,
   "id": "a0ee78b4-b179-4c07-9cfb-73aae71fc539",
   "metadata": {},
   "outputs": [],
   "source": []
  },
  {
   "cell_type": "code",
   "execution_count": null,
   "id": "f0efdff7-f298-4bf8-b8e9-998d7401965a",
   "metadata": {},
   "outputs": [],
   "source": []
  }
 ],
 "metadata": {
  "kernelspec": {
   "display_name": "Python 3 (ipykernel)",
   "language": "python",
   "name": "python3"
  },
  "language_info": {
   "codemirror_mode": {
    "name": "ipython",
    "version": 3
   },
   "file_extension": ".py",
   "mimetype": "text/x-python",
   "name": "python",
   "nbconvert_exporter": "python",
   "pygments_lexer": "ipython3",
   "version": "3.11.7"
  }
 },
 "nbformat": 4,
 "nbformat_minor": 5
}
